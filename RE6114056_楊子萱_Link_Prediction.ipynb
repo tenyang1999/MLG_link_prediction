{
 "cells": [
  {
   "cell_type": "code",
   "execution_count": 1,
   "metadata": {},
   "outputs": [],
   "source": [
    "import pandas as pd\n",
    "import numpy as np\n",
    "\n",
    "import torch\n",
    "from torch_geometric.data import Data\n",
    "from torch_geometric.nn import GCNConv\n",
    "from torch_geometric.utils import negative_sampling\n",
    "import matplotlib.pyplot as plt\n",
    "from tsne_torch import TorchTSNE as TSNE\n",
    "from torch.nn import Linear, LeakyReLU, SiLU\n",
    "from scipy import spatial\n",
    "from sklearn.metrics import roc_auc_score\n",
    "\n",
    "from sklearn.metrics import average_precision_score\n",
    "import time\n",
    "import torch_geometric.transforms as T\n",
    "import torch.nn.functional as F\n",
    "device = torch.device('cuda' if torch.cuda.is_available() else 'cpu')\n"
   ]
  },
  {
   "cell_type": "code",
   "execution_count": 2,
   "metadata": {},
   "outputs": [],
   "source": [
    "# loss plot\n",
    "def loss_plot(epoch,loss_list):\n",
    "    #fig = plt.figure(1)\t#identifies the figure \n",
    "    plt.plot([i for i in range(epoch)], loss_list)\n",
    "    plt.xlabel(\"epoch\",fontsize='13')\n",
    "    plt.ylabel(\"loss\",fontsize='13')\n",
    "    plt.grid()\n",
    "    plt.savefig(f'loss.png')\n",
    "    #plt.clf()\n",
    "\n",
    "def train_edge(train):\n",
    "    \n",
    "    X_train = np.array(train[['from','to',]])\n",
    "    y_train = np.array(train['label'])\n",
    "    edge_index = torch.tensor(X_train.T, dtype=torch.long)\n",
    "    pos_edge_index = torch.tensor(X_train[y_train== 1].T, dtype=torch.long)\n",
    "    pos_edge_label = torch.tensor(y_train[y_train== 1], dtype=torch.float)\n",
    "    return edge_index, pos_edge_index, pos_edge_label\n",
    "\n",
    "def test_edge(test):\n",
    "    \n",
    "    X_test = np.array(test[['from','to',]])\n",
    "    edge_index = torch.tensor(X_test.T, dtype=torch.long)\n",
    "    return edge_index\n",
    "    \n",
    "    \n",
    "def read_data(folder):\n",
    "    train = pd.read_csv(f\"hw2_data/{folder}/train.csv\")\n",
    "    test = pd.read_csv(f\"hw2_data/{folder}/test.csv\")\n",
    "    content = pd.read_csv(f\"hw2_data/{folder}/content.csv\", sep=\"\\t\", header=None)\n",
    "    return train, test, content "
   ]
  },
  {
   "cell_type": "code",
   "execution_count": 3,
   "metadata": {},
   "outputs": [],
   "source": [
    "class GCN(torch.nn.Module):\n",
    "\n",
    "    def __init__(self,D_in, H, D_out):\n",
    "        super(GCN, self).__init__()\n",
    "        torch.manual_seed(12345)\n",
    "        self.GCN1 = GCNConv(D_in, H)\n",
    "        self.GCN2 = GCNConv(H, H)\n",
    "        self.leakyrelu = LeakyReLU(0.2)\n",
    "\n",
    "    def encoder(self,X,edge_index):\n",
    "        X = self.GCN1(X, edge_index)\n",
    "        X = self.leakyrelu(X)\n",
    "        X = self.GCN2(X, edge_index)\n",
    "        return  X\n",
    "    \n",
    "    def decoder(self,z,edge_label_index):\n",
    "        logits = (z[edge_label_index[0]] * z[edge_label_index[1]]).sum(axis=-1)\n",
    "        return logits"
   ]
  },
  {
   "attachments": {},
   "cell_type": "markdown",
   "metadata": {},
   "source": [
    "# Data Transform "
   ]
  },
  {
   "cell_type": "code",
   "execution_count": 5,
   "metadata": {},
   "outputs": [
    {
     "data": {
      "text/plain": [
       "(Data(x=[877, 1703], edge_index=[2, 2050], num_features=1703, num_nodes=877, edge_label=[1273], edge_label_index=[2, 1273]),\n",
       " Data(x=[877, 1703], edge_index=[2, 2050], num_features=1703, num_nodes=877, edge_label=[256], edge_label_index=[2, 256]),\n",
       " Data(x=[877, 1703], edge_index=[2, 2306], num_features=1703, num_nodes=877, edge_label=[256], edge_label_index=[2, 256]))"
      ]
     },
     "execution_count": 5,
     "metadata": {},
     "output_type": "execute_result"
    }
   ],
   "source": [
    "transform = T.Compose([\n",
    "    T.NormalizeFeatures(),\n",
    "    T.ToDevice(device),\n",
    "    T.RandomLinkSplit(num_val=0.1, num_test=0.1,is_undirected=True,\n",
    "                       add_negative_train_samples=False),\n",
    "])\n",
    "dataset = 'dataset3'\n",
    "X1_train, X1_test, X1_content = read_data(dataset)\n",
    "X1_content = np.array(X1_content.set_index(0).sort_index())\n",
    "X1_content = torch.tensor(X1_content, dtype=torch.float)\n",
    "\n",
    "train_edge_index, train_pos_edge_index, train_pos_edge_label = train_edge(X1_train)\n",
    "test_edge_index = test_edge(X1_test)\n",
    "\n",
    "dataset =  Data(x = X1_content, num_features = X1_content.shape[1], \n",
    "                num_nodes = X1_content.shape[0],edge_index = train_edge_index,)               \n",
    "\n",
    "train_data, val_data, test_data = transform(dataset)\n",
    "\n",
    "train_data.edge_label = train_pos_edge_label\n",
    "train_data.edge_label_index = train_pos_edge_index\n",
    "train_data.to(device)\n",
    "\n",
    "# train_data, val_data, test_data =  torch.load('train_data3.pt'), torch.load('val_data3.pt'), torch.load('test_data3.pt')\n",
    "train_data, val_data, test_data"
   ]
  },
  {
   "attachments": {},
   "cell_type": "markdown",
   "metadata": {},
   "source": [
    "# Train"
   ]
  },
  {
   "cell_type": "code",
   "execution_count": 36,
   "metadata": {},
   "outputs": [],
   "source": [
    "\n",
    "model = GCN(train_data.num_features, 128, 64).to(device)\n",
    "optimizer = torch.optim.Adam(params=model.parameters(), lr=0.001)\n",
    "criterion = torch.nn.BCEWithLogitsLoss()"
   ]
  },
  {
   "cell_type": "code",
   "execution_count": 22,
   "metadata": {},
   "outputs": [],
   "source": [
    "def train():\n",
    "    model.train()\n",
    "    optimizer.zero_grad()\n",
    "    z = model.encoder(train_data.x, train_data.edge_index)\n",
    "\n",
    "    # We perform a new round of negative sampling for every training epoch:\n",
    "    neg_edge_index = negative_sampling(\n",
    "        edge_index=train_data.edge_index, num_nodes=train_data.num_nodes,\n",
    "        num_neg_samples=train_data.edge_label_index.size(1), method='sparse')\n",
    "\n",
    "    edge_label_index = torch.cat([train_data.edge_label_index, neg_edge_index],dim=-1,)\n",
    "    \n",
    "    edge_label = torch.cat([train_data.edge_label,train_data.edge_label.new_zeros(neg_edge_index.size(1))], dim=0)\n",
    "    \n",
    "    out = model.decoder(z, edge_label_index).view(-1)\n",
    "    loss = criterion(out, edge_label.float())\n",
    "    auc = roc_auc_score(edge_label.cpu().detach().numpy(), out.cpu().detach().numpy())\n",
    "    loss.backward()\n",
    "    optimizer.step()\n",
    "    return loss,auc\n",
    "\n",
    "\n",
    "@torch.no_grad()\n",
    "def test(data):\n",
    "    model.eval()\n",
    "    z = model.encoder(data.x, data.edge_index)\n",
    "    \n",
    "    out = model.decoder(z, data.edge_label_index).view(-1).sigmoid()\n",
    "    return out, roc_auc_score(data.edge_label.cpu().numpy(), out.cpu().numpy())\n"
   ]
  },
  {
   "cell_type": "code",
   "execution_count": 37,
   "metadata": {},
   "outputs": [
    {
     "name": "stdout",
     "output_type": "stream",
     "text": [
      "Epoch: 000, Loss: 0.6931, Val: 0.5489 Test: 0.5880\n",
      "Epoch: 500, Loss: 0.5648, Val: 0.6306 Test: 0.6198\n",
      "Epoch: 1000, Loss: 0.4994, Val: 0.6681 Test: 0.6816\n",
      "Epoch: 1500, Loss: 0.4716, Val: 0.6874 Test: 0.6974\n",
      "Epoch: 2000, Loss: 0.4620, Val: 0.7039 Test: 0.7203\n",
      "Epoch: 2500, Loss: 0.4549, Val: 0.7078 Test: 0.7224\n",
      "Epoch: 3000, Loss: 0.4427, Val: 0.7078 Test: 0.7206\n",
      "Epoch: 3500, Loss: 0.4458, Val: 0.7382 Test: 0.6978\n",
      "Final val epoch:3616 auc:0.7435,\n",
      "Final test epoch:2238 auc:0.7286,\n"
     ]
    }
   ],
   "source": [
    "\n",
    "best_val_auc = best_test_auc = 0\n",
    "\n",
    "best_val_epoch = best_test_epoch = 0\n",
    "loss_list = []\n",
    "train_list = []\n",
    "val_list = []\n",
    "test_list = []\n",
    "for epoch in range(4000):\n",
    "    \n",
    "    loss,train_auc = train()\n",
    "    out,val_auc = test(val_data)\n",
    "    out,test_auc = test(test_data)\n",
    "    if val_auc > best_val_auc:\n",
    "        best_val_auc = val_auc\n",
    "        best_val_epoch = epoch\n",
    "        best_model = model\n",
    "    if test_auc > best_test_auc:\n",
    "        best_test_auc = test_auc\n",
    "        best_test_epoch = epoch\n",
    "        best_test_model = model\n",
    "    \n",
    "    if epoch % 500 == 0:\n",
    "            print(f'Epoch: {epoch:03d}, Loss: {loss:.4f}, Val: {val_auc:.4f}',\n",
    "          f'Test: {test_auc:.4f}')\n",
    "            time.sleep(0.3)\n",
    " \n",
    "    val_list.append(val_auc)\n",
    "    train_list.append(train_auc)\n",
    "    test_list.append(test_auc)\n",
    "    loss_list.append(loss.item())\n",
    "    \n",
    "\n",
    "print(f'Final val epoch:{best_val_epoch:03d} auc:{best_val_auc:.4f},')\n",
    "print(f'Final test epoch:{best_test_epoch:03d} auc:{best_test_auc:.4f},')"
   ]
  },
  {
   "attachments": {},
   "cell_type": "markdown",
   "metadata": {},
   "source": [
    "# test data to upload"
   ]
  },
  {
   "cell_type": "code",
   "execution_count": 16,
   "metadata": {},
   "outputs": [],
   "source": [
    "ttt_data =  Data(x = train_data.x, num_features = X1_content.shape[1], num_nodes = X1_content.shape[0],\n",
    "                  edge_index = test_data.edge_index, edge_label_index = test_edge_index)\n",
    "ttt_data.to(device)\n",
    "z = best_test_model.encoder(ttt_data.x, ttt_data.edge_index)\n",
    "out = best_test_model.decoder(z, ttt_data.edge_label_index).view(-1).sigmoid()\n",
    "i = 3\n",
    "upload = pd.read_csv(f\"hw2_data/dataset{i}/upload.csv\")\n",
    "upload['prob'] = out.cpu().detach().numpy()\n",
    "upload.to_csv(f\"hw2_data/dataset{i}/upload{i}.csv\",index=False)"
   ]
  },
  {
   "cell_type": "code",
   "execution_count": 39,
   "metadata": {},
   "outputs": [
    {
     "data": {
      "image/png": "[encoded data removed]",
      "text/plain": [
       "<Figure size 640x480 with 1 Axes>"
      ]
     },
     "metadata": {},
     "output_type": "display_data"
    }
   ],
   "source": [
    "loss_plot(4000,loss_list)"
   ]
  },
  {
   "cell_type": "code",
   "execution_count": 40,
   "metadata": {},
   "outputs": [
    {
     "data": {
      "image/png": "[encoded data removed]",
      "text/plain": [
       "<Figure size 300x300 with 1 Axes>"
      ]
     },
     "metadata": {},
     "output_type": "display_data"
    }
   ],
   "source": [
    "plt.figure(figsize=(3,3))\n",
    "plt.plot([i for i in range(4000)],train_list)\n",
    "plt.plot([i for i in range(4000)],val_list)\n",
    "plt.plot([i for i in range(4000)],test_list)\n",
    "plt.savefig(f'AUC.png')"
   ]
  },
  {
   "cell_type": "code",
   "execution_count": null,
   "metadata": {},
   "outputs": [],
   "source": []
  }
 ],
 "metadata": {
  "kernelspec": {
   "display_name": "geometric",
   "language": "python",
   "name": "geometric"
  },
  "language_info": {
   "codemirror_mode": {
    "name": "ipython",
    "version": 3
   },
   "file_extension": ".py",
   "mimetype": "text/x-python",
   "name": "python",
   "nbconvert_exporter": "python",
   "pygments_lexer": "ipython3",
   "version": "3.10.9"
  },
  "orig_nbformat": 4
 },
 "nbformat": 4,
 "nbformat_minor": 2
}
